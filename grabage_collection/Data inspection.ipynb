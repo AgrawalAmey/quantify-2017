{
 "cells": [
  {
   "cell_type": "code",
   "execution_count": 1,
   "metadata": {
    "collapsed": true
   },
   "outputs": [],
   "source": [
    "# Import libraries\n",
    "import numpy as np\n",
    "import matplotlib.pyplot as plt\n",
    "from random import randint\n",
    "import seaborn as sns\n",
    "import pandas as pd"
   ]
  },
  {
   "cell_type": "code",
   "execution_count": 20,
   "metadata": {},
   "outputs": [],
   "source": [
    "# Some defaults for beautiful plots\n",
    "%matplotlib inline\n",
    "sns.set()\n",
    "flatui = [\"#9b59b6\", \"#3498db\", \"#95a5a6\", \"#e74c3c\", \"#34495e\", \"#2ecc71\"]\n",
    "sns.set_palette(sns.color_palette(flatui))"
   ]
  },
  {
   "cell_type": "markdown",
   "metadata": {},
   "source": [
    "### Load Data"
   ]
  },
  {
   "cell_type": "code",
   "execution_count": 16,
   "metadata": {},
   "outputs": [
    {
     "data": {
      "text/html": [
       "<div>\n",
       "<table border=\"1\" class=\"dataframe\">\n",
       "  <thead>\n",
       "    <tr style=\"text-align: right;\">\n",
       "      <th></th>\n",
       "      <th>initialUsedMemory</th>\n",
       "      <th>initialFreeMemory</th>\n",
       "      <th>query token</th>\n",
       "      <th>gcRun</th>\n",
       "      <th>gcInitialMemory</th>\n",
       "      <th>gcFinalMemory</th>\n",
       "      <th>gcTotalMemory</th>\n",
       "      <th>userTime</th>\n",
       "      <th>sysTime</th>\n",
       "      <th>realTime</th>\n",
       "      <th>cpuTimeTaken</th>\n",
       "      <th>finalUsedMemory</th>\n",
       "      <th>finalFreeMemory</th>\n",
       "    </tr>\n",
       "  </thead>\n",
       "  <tbody>\n",
       "    <tr>\n",
       "      <th>0</th>\n",
       "      <td>4.249634</td>\n",
       "      <td>2.999878</td>\n",
       "      <td>token_1</td>\n",
       "      <td>False</td>\n",
       "      <td>0.0</td>\n",
       "      <td>0.0</td>\n",
       "      <td>0.0</td>\n",
       "      <td>0.0</td>\n",
       "      <td>0.0</td>\n",
       "      <td>0.0</td>\n",
       "      <td>0.371230</td>\n",
       "      <td>4.409714</td>\n",
       "      <td>2.839798</td>\n",
       "    </tr>\n",
       "    <tr>\n",
       "      <th>1</th>\n",
       "      <td>4.409720</td>\n",
       "      <td>2.839792</td>\n",
       "      <td>token_2</td>\n",
       "      <td>False</td>\n",
       "      <td>0.0</td>\n",
       "      <td>0.0</td>\n",
       "      <td>0.0</td>\n",
       "      <td>0.0</td>\n",
       "      <td>0.0</td>\n",
       "      <td>0.0</td>\n",
       "      <td>0.220883</td>\n",
       "      <td>4.482361</td>\n",
       "      <td>2.767151</td>\n",
       "    </tr>\n",
       "    <tr>\n",
       "      <th>2</th>\n",
       "      <td>4.482361</td>\n",
       "      <td>2.767151</td>\n",
       "      <td>token_3</td>\n",
       "      <td>False</td>\n",
       "      <td>0.0</td>\n",
       "      <td>0.0</td>\n",
       "      <td>0.0</td>\n",
       "      <td>0.0</td>\n",
       "      <td>0.0</td>\n",
       "      <td>0.0</td>\n",
       "      <td>0.141776</td>\n",
       "      <td>4.542626</td>\n",
       "      <td>2.706886</td>\n",
       "    </tr>\n",
       "    <tr>\n",
       "      <th>3</th>\n",
       "      <td>4.542626</td>\n",
       "      <td>2.706886</td>\n",
       "      <td>token_4</td>\n",
       "      <td>False</td>\n",
       "      <td>0.0</td>\n",
       "      <td>0.0</td>\n",
       "      <td>0.0</td>\n",
       "      <td>0.0</td>\n",
       "      <td>0.0</td>\n",
       "      <td>0.0</td>\n",
       "      <td>0.156459</td>\n",
       "      <td>4.616293</td>\n",
       "      <td>2.633218</td>\n",
       "    </tr>\n",
       "    <tr>\n",
       "      <th>4</th>\n",
       "      <td>4.616296</td>\n",
       "      <td>2.633216</td>\n",
       "      <td>token_5</td>\n",
       "      <td>False</td>\n",
       "      <td>0.0</td>\n",
       "      <td>0.0</td>\n",
       "      <td>0.0</td>\n",
       "      <td>0.0</td>\n",
       "      <td>0.0</td>\n",
       "      <td>0.0</td>\n",
       "      <td>0.285218</td>\n",
       "      <td>4.787172</td>\n",
       "      <td>2.462339</td>\n",
       "    </tr>\n",
       "  </tbody>\n",
       "</table>\n",
       "</div>"
      ],
      "text/plain": [
       "   initialUsedMemory  initialFreeMemory query token  gcRun  gcInitialMemory  \\\n",
       "0           4.249634           2.999878     token_1  False              0.0   \n",
       "1           4.409720           2.839792     token_2  False              0.0   \n",
       "2           4.482361           2.767151     token_3  False              0.0   \n",
       "3           4.542626           2.706886     token_4  False              0.0   \n",
       "4           4.616296           2.633216     token_5  False              0.0   \n",
       "\n",
       "   gcFinalMemory  gcTotalMemory  userTime  sysTime  realTime  cpuTimeTaken  \\\n",
       "0            0.0            0.0       0.0      0.0       0.0      0.371230   \n",
       "1            0.0            0.0       0.0      0.0       0.0      0.220883   \n",
       "2            0.0            0.0       0.0      0.0       0.0      0.141776   \n",
       "3            0.0            0.0       0.0      0.0       0.0      0.156459   \n",
       "4            0.0            0.0       0.0      0.0       0.0      0.285218   \n",
       "\n",
       "   finalUsedMemory  finalFreeMemory  \n",
       "0         4.409714         2.839798  \n",
       "1         4.482361         2.767151  \n",
       "2         4.542626         2.706886  \n",
       "3         4.616293         2.633218  \n",
       "4         4.787172         2.462339  "
      ]
     },
     "execution_count": 16,
     "metadata": {},
     "output_type": "execute_result"
    }
   ],
   "source": [
    "raw_data = pd.read_csv(\"gcTrianingSet.csv\")\n",
    "raw_data[:5]"
   ]
  },
  {
   "cell_type": "markdown",
   "metadata": {},
   "source": [
    "### Check if initialUsedMemory and initialFreeMemory add up"
   ]
  },
  {
   "cell_type": "code",
   "execution_count": 53,
   "metadata": {},
   "outputs": [
    {
     "data": {
      "text/plain": [
       "<matplotlib.axes._subplots.AxesSubplot at 0x7fa959f2c210>"
      ]
     },
     "execution_count": 53,
     "metadata": {},
     "output_type": "execute_result"
    },
    {
     "data": {
      "image/png": "[encoded data removed]",
      "text/plain": [
       "<matplotlib.figure.Figure at 0x7fa959f77690>"
      ]
     },
     "metadata": {},
     "output_type": "display_data"
    }
   ],
   "source": [
    "data = raw_data.copy()\n",
    "\n",
    "data['initialTotalMemory'] = data['initialUsedMemory'] + data['initialFreeMemory']\n",
    "\n",
    "data['initialTotalMemory'].plot.hist(bins=20)"
   ]
  },
  {
   "cell_type": "markdown",
   "metadata": {},
   "source": [
    "For some crazy reason the total memory changes over time. And the change is pretty significant to ignore. Let's check final memory usage."
   ]
  },
  {
   "cell_type": "code",
   "execution_count": 52,
   "metadata": {},
   "outputs": [
    {
     "data": {
      "text/plain": [
       "<matplotlib.axes._subplots.AxesSubplot at 0x7fa95a0fc690>"
      ]
     },
     "execution_count": 52,
     "metadata": {},
     "output_type": "execute_result"
    },
    {
     "data": {
      "image/png": "[encoded data removed]",
      "text/plain": [
       "<matplotlib.figure.Figure at 0x7fa95a0d94d0>"
      ]
     },
     "metadata": {},
     "output_type": "display_data"
    }
   ],
   "source": [
    "data['finalTotalMemory'] = data['finalUsedMemory'] + data['finalFreeMemory']\n",
    "\n",
    "data['finalTotalMemory'].plot.hist(bins=20)"
   ]
  },
  {
   "cell_type": "markdown",
   "metadata": {},
   "source": [
    "At least they match up."
   ]
  },
  {
   "cell_type": "markdown",
   "metadata": {},
   "source": [
    "### Distribution of memory utilization"
   ]
  },
  {
   "cell_type": "code",
   "execution_count": 54,
   "metadata": {},
   "outputs": [
    {
     "data": {
      "text/plain": [
       "<matplotlib.axes._subplots.AxesSubplot at 0x7fa959e5d210>"
      ]
     },
     "execution_count": 54,
     "metadata": {},
     "output_type": "execute_result"
    },
    {
     "data": {
      "image/png": "[encoded data removed]",
      "text/plain": [
       "<matplotlib.figure.Figure at 0x7fa959fb4950>"
      ]
     },
     "metadata": {},
     "output_type": "display_data"
    }
   ],
   "source": [
    "data['memoryUsed'] = data['finalUsedMemory'] - data['initialUsedMemory']\n",
    "\n",
    "data['memoryUsed'].plot.hist(bins=20)"
   ]
  },
  {
   "cell_type": "markdown",
   "metadata": {},
   "source": [
    "The negative final memory must be the rows where gc was run."
   ]
  },
  {
   "cell_type": "markdown",
   "metadata": {},
   "source": [
    "### Seperate the rows with gc run"
   ]
  },
  {
   "cell_type": "code",
   "execution_count": 55,
   "metadata": {},
   "outputs": [
    {
     "name": "stdout",
     "output_type": "stream",
     "text": [
      "171\n"
     ]
    },
    {
     "data": {
      "text/html": [
       "<div>\n",
       "<table border=\"1\" class=\"dataframe\">\n",
       "  <thead>\n",
       "    <tr style=\"text-align: right;\">\n",
       "      <th></th>\n",
       "      <th>initialUsedMemory</th>\n",
       "      <th>initialFreeMemory</th>\n",
       "      <th>query token</th>\n",
       "      <th>gcRun</th>\n",
       "      <th>gcInitialMemory</th>\n",
       "      <th>gcFinalMemory</th>\n",
       "      <th>gcTotalMemory</th>\n",
       "      <th>userTime</th>\n",
       "      <th>sysTime</th>\n",
       "      <th>realTime</th>\n",
       "      <th>cpuTimeTaken</th>\n",
       "      <th>finalUsedMemory</th>\n",
       "      <th>finalFreeMemory</th>\n",
       "      <th>initialTotalMemory</th>\n",
       "      <th>memoryUsed</th>\n",
       "    </tr>\n",
       "  </thead>\n",
       "  <tbody>\n",
       "    <tr>\n",
       "      <th>7</th>\n",
       "      <td>4.977155</td>\n",
       "      <td>2.272357</td>\n",
       "      <td>token_8</td>\n",
       "      <td>True</td>\n",
       "      <td>5.055250</td>\n",
       "      <td>4.142316</td>\n",
       "      <td>7.249512</td>\n",
       "      <td>0.19</td>\n",
       "      <td>0.00</td>\n",
       "      <td>0.07</td>\n",
       "      <td>0.154474</td>\n",
       "      <td>4.168083</td>\n",
       "      <td>3.081428</td>\n",
       "      <td>7.249512</td>\n",
       "      <td>-0.809071</td>\n",
       "    </tr>\n",
       "    <tr>\n",
       "      <th>14</th>\n",
       "      <td>5.050119</td>\n",
       "      <td>2.199393</td>\n",
       "      <td>token_15</td>\n",
       "      <td>True</td>\n",
       "      <td>5.120831</td>\n",
       "      <td>4.137337</td>\n",
       "      <td>7.249512</td>\n",
       "      <td>0.17</td>\n",
       "      <td>0.01</td>\n",
       "      <td>0.03</td>\n",
       "      <td>0.275411</td>\n",
       "      <td>4.239779</td>\n",
       "      <td>3.009732</td>\n",
       "      <td>7.249512</td>\n",
       "      <td>-0.810340</td>\n",
       "    </tr>\n",
       "    <tr>\n",
       "      <th>22</th>\n",
       "      <td>5.045302</td>\n",
       "      <td>2.204210</td>\n",
       "      <td>token_23</td>\n",
       "      <td>True</td>\n",
       "      <td>5.115852</td>\n",
       "      <td>4.132132</td>\n",
       "      <td>7.249512</td>\n",
       "      <td>0.17</td>\n",
       "      <td>0.00</td>\n",
       "      <td>0.02</td>\n",
       "      <td>0.592555</td>\n",
       "      <td>4.656779</td>\n",
       "      <td>2.592733</td>\n",
       "      <td>7.249512</td>\n",
       "      <td>-0.388523</td>\n",
       "    </tr>\n",
       "    <tr>\n",
       "      <th>29</th>\n",
       "      <td>5.065997</td>\n",
       "      <td>2.183514</td>\n",
       "      <td>token_30</td>\n",
       "      <td>True</td>\n",
       "      <td>5.110647</td>\n",
       "      <td>4.115836</td>\n",
       "      <td>7.249512</td>\n",
       "      <td>0.13</td>\n",
       "      <td>0.00</td>\n",
       "      <td>0.02</td>\n",
       "      <td>0.119891</td>\n",
       "      <td>4.149363</td>\n",
       "      <td>3.100148</td>\n",
       "      <td>7.249512</td>\n",
       "      <td>-0.916634</td>\n",
       "    </tr>\n",
       "    <tr>\n",
       "      <th>38</th>\n",
       "      <td>5.069745</td>\n",
       "      <td>2.179767</td>\n",
       "      <td>token_39</td>\n",
       "      <td>True</td>\n",
       "      <td>5.094352</td>\n",
       "      <td>4.103097</td>\n",
       "      <td>7.249512</td>\n",
       "      <td>0.09</td>\n",
       "      <td>0.00</td>\n",
       "      <td>0.01</td>\n",
       "      <td>0.133800</td>\n",
       "      <td>4.142371</td>\n",
       "      <td>3.107140</td>\n",
       "      <td>7.249512</td>\n",
       "      <td>-0.927374</td>\n",
       "    </tr>\n",
       "  </tbody>\n",
       "</table>\n",
       "</div>"
      ],
      "text/plain": [
       "    initialUsedMemory  initialFreeMemory query token gcRun  gcInitialMemory  \\\n",
       "7            4.977155           2.272357     token_8  True         5.055250   \n",
       "14           5.050119           2.199393    token_15  True         5.120831   \n",
       "22           5.045302           2.204210    token_23  True         5.115852   \n",
       "29           5.065997           2.183514    token_30  True         5.110647   \n",
       "38           5.069745           2.179767    token_39  True         5.094352   \n",
       "\n",
       "    gcFinalMemory  gcTotalMemory  userTime  sysTime  realTime  cpuTimeTaken  \\\n",
       "7        4.142316       7.249512      0.19     0.00      0.07      0.154474   \n",
       "14       4.137337       7.249512      0.17     0.01      0.03      0.275411   \n",
       "22       4.132132       7.249512      0.17     0.00      0.02      0.592555   \n",
       "29       4.115836       7.249512      0.13     0.00      0.02      0.119891   \n",
       "38       4.103097       7.249512      0.09     0.00      0.01      0.133800   \n",
       "\n",
       "    finalUsedMemory  finalFreeMemory  initialTotalMemory  memoryUsed  \n",
       "7          4.168083         3.081428            7.249512   -0.809071  \n",
       "14         4.239779         3.009732            7.249512   -0.810340  \n",
       "22         4.656779         2.592733            7.249512   -0.388523  \n",
       "29         4.149363         3.100148            7.249512   -0.916634  \n",
       "38         4.142371         3.107140            7.249512   -0.927374  "
      ]
     },
     "execution_count": 55,
     "metadata": {},
     "output_type": "execute_result"
    }
   ],
   "source": [
    "data_gc_true = data[(data['gcRun'] == True)]\n",
    "\n",
    "print(data_gc_true.shape[0])\n",
    "\n",
    "data_gc_true[:5]"
   ]
  },
  {
   "cell_type": "code",
   "execution_count": 50,
   "metadata": {},
   "outputs": [
    {
     "name": "stdout",
     "output_type": "stream",
     "text": [
      "2559\n"
     ]
    },
    {
     "data": {
      "text/html": [
       "<div>\n",
       "<table border=\"1\" class=\"dataframe\">\n",
       "  <thead>\n",
       "    <tr style=\"text-align: right;\">\n",
       "      <th></th>\n",
       "      <th>initialUsedMemory</th>\n",
       "      <th>initialFreeMemory</th>\n",
       "      <th>query token</th>\n",
       "      <th>gcRun</th>\n",
       "      <th>gcInitialMemory</th>\n",
       "      <th>gcFinalMemory</th>\n",
       "      <th>gcTotalMemory</th>\n",
       "      <th>userTime</th>\n",
       "      <th>sysTime</th>\n",
       "      <th>realTime</th>\n",
       "      <th>cpuTimeTaken</th>\n",
       "      <th>finalUsedMemory</th>\n",
       "      <th>finalFreeMemory</th>\n",
       "      <th>initialTotalMemory</th>\n",
       "    </tr>\n",
       "  </thead>\n",
       "  <tbody>\n",
       "    <tr>\n",
       "      <th>0</th>\n",
       "      <td>4.249634</td>\n",
       "      <td>2.999878</td>\n",
       "      <td>token_1</td>\n",
       "      <td>False</td>\n",
       "      <td>0.0</td>\n",
       "      <td>0.0</td>\n",
       "      <td>0.0</td>\n",
       "      <td>0.0</td>\n",
       "      <td>0.0</td>\n",
       "      <td>0.0</td>\n",
       "      <td>0.371230</td>\n",
       "      <td>4.409714</td>\n",
       "      <td>2.839798</td>\n",
       "      <td>7.249512</td>\n",
       "    </tr>\n",
       "    <tr>\n",
       "      <th>1</th>\n",
       "      <td>4.409720</td>\n",
       "      <td>2.839792</td>\n",
       "      <td>token_2</td>\n",
       "      <td>False</td>\n",
       "      <td>0.0</td>\n",
       "      <td>0.0</td>\n",
       "      <td>0.0</td>\n",
       "      <td>0.0</td>\n",
       "      <td>0.0</td>\n",
       "      <td>0.0</td>\n",
       "      <td>0.220883</td>\n",
       "      <td>4.482361</td>\n",
       "      <td>2.767151</td>\n",
       "      <td>7.249512</td>\n",
       "    </tr>\n",
       "    <tr>\n",
       "      <th>2</th>\n",
       "      <td>4.482361</td>\n",
       "      <td>2.767151</td>\n",
       "      <td>token_3</td>\n",
       "      <td>False</td>\n",
       "      <td>0.0</td>\n",
       "      <td>0.0</td>\n",
       "      <td>0.0</td>\n",
       "      <td>0.0</td>\n",
       "      <td>0.0</td>\n",
       "      <td>0.0</td>\n",
       "      <td>0.141776</td>\n",
       "      <td>4.542626</td>\n",
       "      <td>2.706886</td>\n",
       "      <td>7.249512</td>\n",
       "    </tr>\n",
       "    <tr>\n",
       "      <th>3</th>\n",
       "      <td>4.542626</td>\n",
       "      <td>2.706886</td>\n",
       "      <td>token_4</td>\n",
       "      <td>False</td>\n",
       "      <td>0.0</td>\n",
       "      <td>0.0</td>\n",
       "      <td>0.0</td>\n",
       "      <td>0.0</td>\n",
       "      <td>0.0</td>\n",
       "      <td>0.0</td>\n",
       "      <td>0.156459</td>\n",
       "      <td>4.616293</td>\n",
       "      <td>2.633218</td>\n",
       "      <td>7.249512</td>\n",
       "    </tr>\n",
       "    <tr>\n",
       "      <th>4</th>\n",
       "      <td>4.616296</td>\n",
       "      <td>2.633216</td>\n",
       "      <td>token_5</td>\n",
       "      <td>False</td>\n",
       "      <td>0.0</td>\n",
       "      <td>0.0</td>\n",
       "      <td>0.0</td>\n",
       "      <td>0.0</td>\n",
       "      <td>0.0</td>\n",
       "      <td>0.0</td>\n",
       "      <td>0.285218</td>\n",
       "      <td>4.787172</td>\n",
       "      <td>2.462339</td>\n",
       "      <td>7.249512</td>\n",
       "    </tr>\n",
       "  </tbody>\n",
       "</table>\n",
       "</div>"
      ],
      "text/plain": [
       "   initialUsedMemory  initialFreeMemory query token  gcRun  gcInitialMemory  \\\n",
       "0           4.249634           2.999878     token_1  False              0.0   \n",
       "1           4.409720           2.839792     token_2  False              0.0   \n",
       "2           4.482361           2.767151     token_3  False              0.0   \n",
       "3           4.542626           2.706886     token_4  False              0.0   \n",
       "4           4.616296           2.633216     token_5  False              0.0   \n",
       "\n",
       "   gcFinalMemory  gcTotalMemory  userTime  sysTime  realTime  cpuTimeTaken  \\\n",
       "0            0.0            0.0       0.0      0.0       0.0      0.371230   \n",
       "1            0.0            0.0       0.0      0.0       0.0      0.220883   \n",
       "2            0.0            0.0       0.0      0.0       0.0      0.141776   \n",
       "3            0.0            0.0       0.0      0.0       0.0      0.156459   \n",
       "4            0.0            0.0       0.0      0.0       0.0      0.285218   \n",
       "\n",
       "   finalUsedMemory  finalFreeMemory  initialTotalMemory  \n",
       "0         4.409714         2.839798            7.249512  \n",
       "1         4.482361         2.767151            7.249512  \n",
       "2         4.542626         2.706886            7.249512  \n",
       "3         4.616293         2.633218            7.249512  \n",
       "4         4.787172         2.462339            7.249512  "
      ]
     },
     "execution_count": 50,
     "metadata": {},
     "output_type": "execute_result"
    }
   ],
   "source": [
    "data_gc_false = data[(data['gcRun'] != True)]\n",
    "\n",
    "print(data_gc_false.shape[0])\n",
    "\n",
    "data_gc_false[:5]"
   ]
  },
  {
   "cell_type": "markdown",
   "metadata": {},
   "source": [
    "### Let's plot the distruibution again"
   ]
  },
  {
   "cell_type": "code",
   "execution_count": 38,
   "metadata": {},
   "outputs": [
    {
     "data": {
      "text/plain": [
       "<matplotlib.axes._subplots.AxesSubplot at 0x7fa99462c290>"
      ]
     },
     "execution_count": 38,
     "metadata": {},
     "output_type": "execute_result"
    },
    {
     "data": {
      "image/png": "[encoded data removed]",
      "text/plain": [
       "<matplotlib.figure.Figure at 0x7fa95a8fbc90>"
      ]
     },
     "metadata": {},
     "output_type": "display_data"
    }
   ],
   "source": [
    "data_gc_true['memoryUsed'].plot.hist(bins=40)"
   ]
  },
  {
   "cell_type": "code",
   "execution_count": 37,
   "metadata": {},
   "outputs": [
    {
     "data": {
      "text/plain": [
       "<matplotlib.axes._subplots.AxesSubplot at 0x7fa95a979750>"
      ]
     },
     "execution_count": 37,
     "metadata": {},
     "output_type": "execute_result"
    },
    {
     "data": {
      "image/png": "[encoded data removed]",
      "text/plain": [
       "<matplotlib.figure.Figure at 0x7fa9947f9410>"
      ]
     },
     "metadata": {},
     "output_type": "display_data"
    }
   ],
   "source": [
    "data_gc_false['memoryUsed'].plot.hist(bins=40)"
   ]
  },
  {
   "cell_type": "markdown",
   "metadata": {},
   "source": [
    "### Distribution of queries"
   ]
  },
  {
   "cell_type": "code",
   "execution_count": 49,
   "metadata": {},
   "outputs": [
    {
     "data": {
      "text/plain": [
       "<matplotlib.axes._subplots.AxesSubplot at 0x7fa95a49b3d0>"
      ]
     },
     "execution_count": 49,
     "metadata": {},
     "output_type": "execute_result"
    },
    {
     "data": {
      "image/png": "[encoded data removed]",
      "text/plain": [
       "<matplotlib.figure.Figure at 0x7fa95a299b10>"
      ]
     },
     "metadata": {},
     "output_type": "display_data"
    }
   ],
   "source": [
    "data['query token'].value_counts().plot.hist()"
   ]
  },
  {
   "cell_type": "markdown",
   "metadata": {},
   "source": [
    "Cool."
   ]
  },
  {
   "cell_type": "code",
   "execution_count": null,
   "metadata": {
    "collapsed": true
   },
   "outputs": [],
   "source": []
  }
 ],
 "metadata": {
  "kernelspec": {
   "display_name": "Python 3",
   "language": "python",
   "name": "python3"
  },
  "language_info": {
   "codemirror_mode": {
    "name": "ipython",
    "version": 2
   },
   "file_extension": ".py",
   "mimetype": "text/x-python",
   "name": "python",
   "nbconvert_exporter": "python",
   "pygments_lexer": "ipython2",
   "version": "2.7.12+"
  }
 },
 "nbformat": 4,
 "nbformat_minor": 2
}
